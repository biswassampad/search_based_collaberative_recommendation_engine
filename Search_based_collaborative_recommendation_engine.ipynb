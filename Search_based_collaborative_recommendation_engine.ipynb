{
 "cells": [
  {
   "cell_type": "code",
   "execution_count": 1,
   "metadata": {},
   "outputs": [],
   "source": [
    "from textblob import TextBlob\n",
    "import pandas as pd\n",
    "import numpy as np\n",
    "import Recommenders as Recommenders"
   ]
  },
  {
   "cell_type": "code",
   "execution_count": 2,
   "metadata": {},
   "outputs": [],
   "source": [
    "product=pd.read_csv('product.csv')\n",
    "df=pd.read_csv('Search.csv')"
   ]
  },
  {
   "cell_type": "code",
   "execution_count": 3,
   "metadata": {
    "scrolled": true
   },
   "outputs": [
    {
     "name": "stdout",
     "output_type": "stream",
     "text": [
      "  User_id                    Search\n",
      "0   U1077      shampoo for the baby\n",
      "1   U1077        Cream for the baby\n",
      "2   U1077  Body lotion for the baby\n",
      "3   U1077     Hair oil for the baby\n",
      "4   U1068     Body oil for the baby\n",
      "(1161, 2)\n"
     ]
    }
   ],
   "source": [
    "print(df.head())\n",
    "print(df.shape)"
   ]
  },
  {
   "cell_type": "code",
   "execution_count": 4,
   "metadata": {},
   "outputs": [],
   "source": [
    "def convert(s): \n",
    "    str1 = \"\" \n",
    "    return(str1.join(s)) \n",
    "list=[]\n",
    "for i in df['Search']:\n",
    "    text=TextBlob(i)\n",
    "    list.append(convert(text.correct()))"
   ]
  },
  {
   "cell_type": "code",
   "execution_count": 5,
   "metadata": {},
   "outputs": [],
   "source": [
    "df['Search']=pd.Series(list)"
   ]
  },
  {
   "cell_type": "code",
   "execution_count": 6,
   "metadata": {},
   "outputs": [
    {
     "name": "stdout",
     "output_type": "stream",
     "text": [
      "0                     shampoo for the baby\n",
      "1                       Dream for the baby\n",
      "2                 Body lotion for the baby\n",
      "3                    Hair oil for the baby\n",
      "4                    Body oil for the baby\n",
      "5                       Paper for the baby\n",
      "6                    Path tub for the baby\n",
      "7               Nail slippers for the baby\n",
      "8                Slipping bag for the baby\n",
      "9                  War eaters for the baby\n",
      "10                      wiped for the baby\n",
      "11                    Bottles for the baby\n",
      "12              And sanitizer for the baby\n",
      "13                   Pacifier for the baby\n",
      "14                    Whether for the baby\n",
      "15                 Happy cups for the baby\n",
      "16                    Tissues for the baby\n",
      "17                       Boys for the baby\n",
      "18                         At for the baby\n",
      "19                  Sunscreen for the baby\n",
      "20                Paper cream for the baby\n",
      "21                        Rib for the baby\n",
      "22                  Up cloths for the baby\n",
      "23                     Toller for the baby\n",
      "24               Baby carrier for the baby\n",
      "25                    Lay mat for the baby\n",
      "26                      Towel for the baby\n",
      "27                wash cloths for the baby\n",
      "28             Baby hairbrush for the baby\n",
      "29                 Paper pail for the baby\n",
      "                       ...                \n",
      "1131                  Blanket for the baby\n",
      "1132                      Rib for the baby\n",
      "1133                   Cradle for the baby\n",
      "1134                Arm chair for the baby\n",
      "1135               Baby swing for the baby\n",
      "1136               High chair for the baby\n",
      "1137         Baby Thermometer for the baby\n",
      "1138            First aid kit for the baby\n",
      "1139             Baby monitor for the baby\n",
      "1140              Tooth brush for the baby\n",
      "1141              Tooth paste for the baby\n",
      "1142           Tongue cleaner for the baby\n",
      "1143                 And-Lids for the baby\n",
      "1144                   Shocks for the baby\n",
      "1145                    Shoes for the baby\n",
      "1146                   Cloths for the baby\n",
      "1147             Rib mattress for the baby\n",
      "1148                Rib sheet for the baby\n",
      "1149             Changing pad for the baby\n",
      "1150           Pushing pillow for the baby\n",
      "1151               Sleepsacks for the baby\n",
      "1152                    Poppy for the baby\n",
      "1153                    Lumbo for the baby\n",
      "1154               Rib soothe for the baby\n",
      "1155    Right blanketProducts for the baby\n",
      "1156                  shampoo for the baby\n",
      "1157                    Dream for the baby\n",
      "1158              Body lotion for the baby\n",
      "1159                 Hair oil for the baby\n",
      "1160                      nan for the baby\n",
      "Name: Search, Length: 1161, dtype: object\n"
     ]
    }
   ],
   "source": [
    "print(df['Search'])"
   ]
  },
  {
   "cell_type": "code",
   "execution_count": 7,
   "metadata": {},
   "outputs": [
    {
     "name": "stdout",
     "output_type": "stream",
     "text": [
      "['U1077' 'U1068' 'U1067' 'U1103' 'U1107' 'U1044' 'U1070' 'U1031' 'U1082'\n",
      " 'U1023' 'U1060' 'U1015' 'U1123' 'U1021' 'U1026' 'U1083' 'U1108' 'U1012'\n",
      " 'U1093' 'U1030' 'U1066' 'U1127' 'U1017' 'U1100' 'U1133' 'U1118' 'U1072'\n",
      " 'U1080' 'U1063' 'U1074' 'U1117' 'U1020' 'U1051' 'U1055' 'U1053' 'U1035'\n",
      " 'U1064' 'U1081' 'U1001' 'U1014' 'U1088' 'U1056' 'U1134' 'U1106' 'U1126'\n",
      " 'U1124' 'U1018' 'U1125' 'U1119' 'U1076' 'U1022' 'U1094' 'U1116' 'U1105'\n",
      " 'U1075' 'U1007' 'U1115' 'U1024' 'U1132' 'U1005' 'U1120' 'U1004' 'U1037'\n",
      " 'U1052' 'U1036' 'U1038' 'U1071' 'U1114' 'U1084' 'U1049' 'U1019' 'U1069'\n",
      " 'U1113' 'U1104' 'U1079' 'U1045' 'U1009' 'U1016' 'U1047' 'U1095' 'U1034'\n",
      " 'U1078' 'U1099' 'U1008' 'U1040' 'U1121' 'U1110' 'U1042' 'U1013' 'U1054'\n",
      " 'U1111' 'U1128' 'U1062' 'U1101' 'U1135' 'U1032' 'U1048' 'U1092' 'U1085'\n",
      " 'U1109' 'U1102' 'U1098' 'U1046' 'U1122' 'U1138' 'U1033' 'U1089' 'U1003'\n",
      " 'U1091' 'U1027' 'U1029' 'U1086' 'U1137' 'U1090' 'U1061' 'U1041' 'U1059'\n",
      " 'U1112' 'U1057' 'U1025' 'U1097' 'U1006' 'U1131' 'U1073' 'U1058' 'U1002'\n",
      " 'U1096' 'U1136' 'U1010' 'U1028' 'U1050' 'U1129' 'U1087' 'U1065' 'U1039'\n",
      " 'U1130' 'U1043' 'U1011']\n"
     ]
    }
   ],
   "source": [
    "users = df['User_id'].unique()\n",
    "print(users)"
   ]
  },
  {
   "cell_type": "code",
   "execution_count": 8,
   "metadata": {},
   "outputs": [],
   "source": [
    "list1=[]\n",
    "for columns in df['Search']:\n",
    "    for x in product['Products']:\n",
    "        if columns.find(x):\n",
    "            list1.append(x)\n",
    "        else:\n",
    "            list1.append(np.nan)\n",
    "df['product'] = pd.Series(list1)"
   ]
  },
  {
   "cell_type": "code",
   "execution_count": 9,
   "metadata": {},
   "outputs": [
    {
     "name": "stdout",
     "output_type": "stream",
     "text": [
      "  User_id      product\n",
      "1   U1077        Cream\n",
      "2   U1077  Body lotion\n",
      "3   U1077     Hair oil\n",
      "4   U1068     Body oil\n",
      "5   U1068       Diaper\n"
     ]
    }
   ],
   "source": [
    "df.drop(['Search'], axis=1, inplace=True)\n",
    "df.dropna(inplace=True)\n",
    "print(df.head())"
   ]
  },
  {
   "cell_type": "code",
   "execution_count": 10,
   "metadata": {},
   "outputs": [],
   "source": [
    "is_model = Recommenders.item_similarity_recommender_py()\n",
    "is_model.create(df, 'User_id', 'product')"
   ]
  },
  {
   "cell_type": "code",
   "execution_count": 11,
   "metadata": {},
   "outputs": [
    {
     "name": "stdout",
     "output_type": "stream",
     "text": [
      "------------------------------------------------------------------------------------\n",
      "Training data Product for the user userid: U1068:\n",
      "------------------------------------------------------------------------------------\n",
      "Body oil\n",
      "Diaper\n",
      "Bath tub\n",
      "Nail clippers\n",
      "Slipping bag\n",
      "Body lotion\n",
      "Hair oil\n",
      "shampoo\n",
      "----------------------------------------------------------------------\n",
      "Recommendation process going on:\n",
      "----------------------------------------------------------------------\n",
      "No. of unique Product for the user: 8\n",
      "no. of unique Product in the training set: 57\n",
      "Non zero values in cooccurence_matrix :296\n"
     ]
    },
    {
     "data": {
      "text/html": [
       "<div>\n",
       "<style scoped>\n",
       "    .dataframe tbody tr th:only-of-type {\n",
       "        vertical-align: middle;\n",
       "    }\n",
       "\n",
       "    .dataframe tbody tr th {\n",
       "        vertical-align: top;\n",
       "    }\n",
       "\n",
       "    .dataframe thead th {\n",
       "        text-align: right;\n",
       "    }\n",
       "</style>\n",
       "<table border=\"1\" class=\"dataframe\">\n",
       "  <thead>\n",
       "    <tr style=\"text-align: right;\">\n",
       "      <th></th>\n",
       "      <th>User_id</th>\n",
       "      <th>product</th>\n",
       "      <th>score</th>\n",
       "      <th>rank</th>\n",
       "    </tr>\n",
       "  </thead>\n",
       "  <tbody>\n",
       "    <tr>\n",
       "      <th>0</th>\n",
       "      <td>U1068</td>\n",
       "      <td>Car seaters</td>\n",
       "      <td>0.335402</td>\n",
       "      <td>1</td>\n",
       "    </tr>\n",
       "    <tr>\n",
       "      <th>1</th>\n",
       "      <td>U1068</td>\n",
       "      <td>wipes</td>\n",
       "      <td>0.250364</td>\n",
       "      <td>2</td>\n",
       "    </tr>\n",
       "    <tr>\n",
       "      <th>2</th>\n",
       "      <td>U1068</td>\n",
       "      <td>Bottles</td>\n",
       "      <td>0.249065</td>\n",
       "      <td>3</td>\n",
       "    </tr>\n",
       "    <tr>\n",
       "      <th>3</th>\n",
       "      <td>U1068</td>\n",
       "      <td>Hand sanitizer</td>\n",
       "      <td>0.246422</td>\n",
       "      <td>4</td>\n",
       "    </tr>\n",
       "    <tr>\n",
       "      <th>4</th>\n",
       "      <td>U1068</td>\n",
       "      <td>Cream</td>\n",
       "      <td>0.231111</td>\n",
       "      <td>5</td>\n",
       "    </tr>\n",
       "    <tr>\n",
       "      <th>5</th>\n",
       "      <td>U1068</td>\n",
       "      <td>Pacifier</td>\n",
       "      <td>0.219687</td>\n",
       "      <td>6</td>\n",
       "    </tr>\n",
       "    <tr>\n",
       "      <th>6</th>\n",
       "      <td>U1068</td>\n",
       "      <td>Teether</td>\n",
       "      <td>0.161604</td>\n",
       "      <td>7</td>\n",
       "    </tr>\n",
       "    <tr>\n",
       "      <th>7</th>\n",
       "      <td>U1068</td>\n",
       "      <td>Crib soother</td>\n",
       "      <td>0.130244</td>\n",
       "      <td>8</td>\n",
       "    </tr>\n",
       "    <tr>\n",
       "      <th>8</th>\n",
       "      <td>U1068</td>\n",
       "      <td>Light blanketProducts</td>\n",
       "      <td>0.102208</td>\n",
       "      <td>9</td>\n",
       "    </tr>\n",
       "    <tr>\n",
       "      <th>9</th>\n",
       "      <td>U1068</td>\n",
       "      <td>Bumbo</td>\n",
       "      <td>0.092423</td>\n",
       "      <td>10</td>\n",
       "    </tr>\n",
       "  </tbody>\n",
       "</table>\n",
       "</div>"
      ],
      "text/plain": [
       "  User_id                product     score rank\n",
       "0   U1068            Car seaters  0.335402    1\n",
       "1   U1068                  wipes  0.250364    2\n",
       "2   U1068                Bottles  0.249065    3\n",
       "3   U1068         Hand sanitizer  0.246422    4\n",
       "4   U1068                  Cream  0.231111    5\n",
       "5   U1068               Pacifier  0.219687    6\n",
       "6   U1068                Teether  0.161604    7\n",
       "7   U1068           Crib soother  0.130244    8\n",
       "8   U1068  Light blanketProducts  0.102208    9\n",
       "9   U1068                  Bumbo  0.092423   10"
      ]
     },
     "execution_count": 11,
     "metadata": {},
     "output_type": "execute_result"
    }
   ],
   "source": [
    "#Print the product for the user in training data\n",
    "user_id = users[1]#'U1068'\n",
    "user_items = is_model.get_user_items(user_id)\n",
    "#\n",
    "print(\"------------------------------------------------------------------------------------\")\n",
    "print(\"Training data Product for the user userid: %s:\" % user_id)\n",
    "print(\"------------------------------------------------------------------------------------\")\n",
    "\n",
    "for user_item in user_items:\n",
    "    print(user_item)\n",
    "\n",
    "print(\"----------------------------------------------------------------------\")\n",
    "print(\"Recommendation process going on:\")\n",
    "print(\"----------------------------------------------------------------------\")\n",
    "\n",
    "#Recommend product for the user using personalized model\n",
    "is_model.recommend(user_id)"
   ]
  },
  {
   "cell_type": "code",
   "execution_count": null,
   "metadata": {},
   "outputs": [],
   "source": []
  },
  {
   "cell_type": "code",
   "execution_count": null,
   "metadata": {},
   "outputs": [],
   "source": []
  }
 ],
 "metadata": {
  "kernelspec": {
   "display_name": "Python 3",
   "language": "python",
   "name": "python3"
  },
  "language_info": {
   "codemirror_mode": {
    "name": "ipython",
    "version": 3
   },
   "file_extension": ".py",
   "mimetype": "text/x-python",
   "name": "python",
   "nbconvert_exporter": "python",
   "pygments_lexer": "ipython3",
   "version": "3.7.2"
  }
 },
 "nbformat": 4,
 "nbformat_minor": 2
}
